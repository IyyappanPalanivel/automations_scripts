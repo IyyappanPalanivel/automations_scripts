{
  "nbformat": 4,
  "nbformat_minor": 0,
  "metadata": {
    "colab": {
      "provenance": [],
      "authorship_tag": "ABX9TyNA9kZQUTBYrU2ANGAsBq/e",
      "include_colab_link": true
    },
    "kernelspec": {
      "name": "python3",
      "display_name": "Python 3"
    },
    "language_info": {
      "name": "python"
    }
  },
  "cells": [
    {
      "cell_type": "markdown",
      "metadata": {
        "id": "view-in-github",
        "colab_type": "text"
      },
      "source": [
        "<a href=\"https://colab.research.google.com/github/IyyappanPalanivel/automations_scripts/blob/process_candidates/CandidatesAutomation.ipynb\" target=\"_parent\"><img src=\"https://colab.research.google.com/assets/colab-badge.svg\" alt=\"Open In Colab\"/></a>"
      ]
    },
    {
      "cell_type": "code",
      "source": [
        "pip install openpyxl"
      ],
      "metadata": {
        "colab": {
          "base_uri": "https://localhost:8080/"
        },
        "id": "ansGGvQTIECn",
        "outputId": "ee6fedfa-93e9-4020-d83e-9705a6803266"
      },
      "execution_count": null,
      "outputs": [
        {
          "output_type": "stream",
          "name": "stdout",
          "text": [
            "Requirement already satisfied: openpyxl in /usr/local/lib/python3.10/dist-packages (3.1.2)\n",
            "Requirement already satisfied: et-xmlfile in /usr/local/lib/python3.10/dist-packages (from openpyxl) (1.1.0)\n"
          ]
        }
      ]
    },
    {
      "cell_type": "code",
      "execution_count": null,
      "metadata": {
        "colab": {
          "base_uri": "https://localhost:8080/"
        },
        "id": "gR05NIomHnMP",
        "outputId": "a1f811fd-4f96-44f2-9335-24f2109660cb"
      },
      "outputs": [
        {
          "output_type": "stream",
          "name": "stdout",
          "text": [
            "Output file output_file.xlsx created successfully.\n"
          ]
        }
      ],
      "source": [
        "import openpyxl\n",
        "\n",
        "# Load the input workbook\n",
        "input_file = 'input_file.xlsx'\n",
        "input_wb = openpyxl.load_workbook(input_file)\n",
        "\n",
        "# Create a new workbook for the output\n",
        "output_wb = openpyxl.Workbook()\n",
        "\n",
        "# Dictionary to hold roles and their corresponding rows from all sheets\n",
        "role_data = {}\n",
        "\n",
        "# Read data from each sheet in the input workbook\n",
        "for sheet_name in input_wb.sheetnames:\n",
        "    input_ws = input_wb[sheet_name]\n",
        "\n",
        "    # Iterate through the rows, starting from the second row to skip headers\n",
        "    for row in input_ws.iter_rows(min_row=2, values_only=True):\n",
        "        role = row[2]  # Assuming 'Role' is in the 3rd column (index 2)\n",
        "        if role and role.lower() != \"role\":  # Check if role is not \"role\"\n",
        "            if role not in role_data:\n",
        "                role_data[role] = []\n",
        "            role_data[role].append(row)\n",
        "\n",
        "# Create new sheets and add data based on roles\n",
        "for role, data in role_data.items():\n",
        "    output_ws = output_wb.create_sheet(title=role)\n",
        "    # Write headers\n",
        "    headers = [\"S.no\", \"Date\", \"Role\", \"Client Name\", \"Candidate Name\", \"Mobile No\", \"Mail ID\", \"Feedback\", \"Curr Location\", \"Location\", \"T EXP\", \"R EXP\", \"Notice Period\", \"CUR CTC\", \"EXP CTC\"]\n",
        "    output_ws.append(headers)\n",
        "\n",
        "    # Write data rows\n",
        "    for row in data:\n",
        "        output_ws.append(row)\n",
        "\n",
        "# Remove the default sheet created by openpyxl\n",
        "if 'Sheet' in output_wb.sheetnames:\n",
        "    std = output_wb['Sheet']\n",
        "    output_wb.remove(std)\n",
        "\n",
        "# Save the output workbook\n",
        "output_file = 'output_file.xlsx'\n",
        "output_wb.save(output_file)\n",
        "\n",
        "print(f'Output file {output_file} created successfully.')\n"
      ]
    }
  ]
}